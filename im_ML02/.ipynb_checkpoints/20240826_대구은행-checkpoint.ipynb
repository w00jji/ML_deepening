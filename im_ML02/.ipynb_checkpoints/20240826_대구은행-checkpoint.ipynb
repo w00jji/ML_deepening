{
 "cells": [
  {
   "cell_type": "code",
   "execution_count": 1,
   "id": "38483425-e72c-4c97-8b5f-2c96c0f778de",
   "metadata": {},
   "outputs": [
    {
     "data": {
      "text/html": [
       "<div>\n",
       "<style scoped>\n",
       "    .dataframe tbody tr th:only-of-type {\n",
       "        vertical-align: middle;\n",
       "    }\n",
       "\n",
       "    .dataframe tbody tr th {\n",
       "        vertical-align: top;\n",
       "    }\n",
       "\n",
       "    .dataframe thead th {\n",
       "        text-align: right;\n",
       "    }\n",
       "</style>\n",
       "<table border=\"1\" class=\"dataframe\">\n",
       "  <thead>\n",
       "    <tr style=\"text-align: right;\">\n",
       "      <th></th>\n",
       "      <th>season</th>\n",
       "      <th>holiday</th>\n",
       "      <th>workingday</th>\n",
       "      <th>weather</th>\n",
       "      <th>temp</th>\n",
       "      <th>atemp</th>\n",
       "      <th>humidity</th>\n",
       "      <th>count</th>\n",
       "      <th>year</th>\n",
       "      <th>month</th>\n",
       "      <th>day</th>\n",
       "      <th>hour</th>\n",
       "      <th>weekday</th>\n",
       "    </tr>\n",
       "  </thead>\n",
       "  <tbody>\n",
       "    <tr>\n",
       "      <th>0</th>\n",
       "      <td>1</td>\n",
       "      <td>0</td>\n",
       "      <td>0</td>\n",
       "      <td>1</td>\n",
       "      <td>9.84</td>\n",
       "      <td>14.395</td>\n",
       "      <td>81</td>\n",
       "      <td>16</td>\n",
       "      <td>2011</td>\n",
       "      <td>1</td>\n",
       "      <td>1</td>\n",
       "      <td>0</td>\n",
       "      <td>5</td>\n",
       "    </tr>\n",
       "    <tr>\n",
       "      <th>1</th>\n",
       "      <td>1</td>\n",
       "      <td>0</td>\n",
       "      <td>0</td>\n",
       "      <td>1</td>\n",
       "      <td>9.02</td>\n",
       "      <td>13.635</td>\n",
       "      <td>80</td>\n",
       "      <td>40</td>\n",
       "      <td>2011</td>\n",
       "      <td>1</td>\n",
       "      <td>1</td>\n",
       "      <td>1</td>\n",
       "      <td>5</td>\n",
       "    </tr>\n",
       "    <tr>\n",
       "      <th>2</th>\n",
       "      <td>1</td>\n",
       "      <td>0</td>\n",
       "      <td>0</td>\n",
       "      <td>1</td>\n",
       "      <td>9.02</td>\n",
       "      <td>13.635</td>\n",
       "      <td>80</td>\n",
       "      <td>32</td>\n",
       "      <td>2011</td>\n",
       "      <td>1</td>\n",
       "      <td>1</td>\n",
       "      <td>2</td>\n",
       "      <td>5</td>\n",
       "    </tr>\n",
       "    <tr>\n",
       "      <th>3</th>\n",
       "      <td>1</td>\n",
       "      <td>0</td>\n",
       "      <td>0</td>\n",
       "      <td>1</td>\n",
       "      <td>9.84</td>\n",
       "      <td>14.395</td>\n",
       "      <td>75</td>\n",
       "      <td>13</td>\n",
       "      <td>2011</td>\n",
       "      <td>1</td>\n",
       "      <td>1</td>\n",
       "      <td>3</td>\n",
       "      <td>5</td>\n",
       "    </tr>\n",
       "    <tr>\n",
       "      <th>4</th>\n",
       "      <td>1</td>\n",
       "      <td>0</td>\n",
       "      <td>0</td>\n",
       "      <td>1</td>\n",
       "      <td>9.84</td>\n",
       "      <td>14.395</td>\n",
       "      <td>75</td>\n",
       "      <td>1</td>\n",
       "      <td>2011</td>\n",
       "      <td>1</td>\n",
       "      <td>1</td>\n",
       "      <td>4</td>\n",
       "      <td>5</td>\n",
       "    </tr>\n",
       "  </tbody>\n",
       "</table>\n",
       "</div>"
      ],
      "text/plain": [
       "   season  holiday  workingday  weather  temp   atemp  humidity  count  year  \\\n",
       "0       1        0           0        1  9.84  14.395        81     16  2011   \n",
       "1       1        0           0        1  9.02  13.635        80     40  2011   \n",
       "2       1        0           0        1  9.02  13.635        80     32  2011   \n",
       "3       1        0           0        1  9.84  14.395        75     13  2011   \n",
       "4       1        0           0        1  9.84  14.395        75      1  2011   \n",
       "\n",
       "   month  day  hour  weekday  \n",
       "0      1    1     0        5  \n",
       "1      1    1     1        5  \n",
       "2      1    1     2        5  \n",
       "3      1    1     3        5  \n",
       "4      1    1     4        5  "
      ]
     },
     "execution_count": 1,
     "metadata": {},
     "output_type": "execute_result"
    }
   ],
   "source": [
    "# count값을 회귀 예측하는 모델\n",
    "# 최대한 r^2을 높게!\n",
    "\n",
    "import pandas as pd\n",
    "import seaborn as sns\n",
    "\n",
    "# 공공자전거 수요\n",
    "bike = pd.read_csv(\"bike data.csv\")\n",
    "del bike['windspeed']\n",
    "\n",
    "bike['datetime'] = pd.to_datetime(bike['datetime'])\n",
    "bike[\"year\"] = bike['datetime'].dt.year\n",
    "bike[\"month\"] = bike['datetime'].dt.month\n",
    "bike[\"day\"] = bike['datetime'].dt.day\n",
    "bike[\"hour\"] = bike['datetime'].dt.hour\n",
    "bike[\"weekday\"] = bike['datetime'].dt.weekday\n",
    "del bike['datetime']\n",
    "\n",
    "bike.head()"
   ]
  },
  {
   "cell_type": "code",
   "execution_count": 2,
   "id": "cd5627c3-62d3-407d-8532-58ca518d0133",
   "metadata": {},
   "outputs": [
    {
     "data": {
      "text/plain": [
       "<Axes: xlabel='hour', ylabel='count'>"
      ]
     },
     "execution_count": 2,
     "metadata": {},
     "output_type": "execute_result"
    },
    {
     "data": {
      "image/png": "[encoded data removed]",
      "text/plain": [
       "<Figure size 640x480 with 1 Axes>"
      ]
     },
     "metadata": {},
     "output_type": "display_data"
    }
   ],
   "source": [
    "# sns.scatterplot(data=bike, x = 'windspeed', y = 'count')\n",
    "\n",
    "sns.set_style('whitegrid')\n",
    "sns.pointplot(data=bike, x = 'hour', y = 'count', hue = 'workingday')"
   ]
  },
  {
   "cell_type": "code",
   "execution_count": 3,
   "id": "a1990f73-5ada-41e5-84fc-00327814035f",
   "metadata": {},
   "outputs": [
    {
     "data": {
      "text/plain": [
       "0.9511276181581033"
      ]
     },
     "execution_count": 3,
     "metadata": {},
     "output_type": "execute_result"
    }
   ],
   "source": [
    "from sklearn.model_selection import train_test_split\n",
    "from sklearn.ensemble import RandomForestRegressor\n",
    "\n",
    "# XGBoost 학습 원리\n",
    "# 부스팅: 약한 학습기(찍는것보단 나은수준)\n",
    "\n",
    "X = bike.drop(\"count\", axis = 1).to_numpy()\n",
    "Y = bike['count'].to_numpy()\n",
    "\n",
    "train_x, test_x, train_y, test_y = train_test_split(X, Y)\n",
    "\n",
    "model = RandomForestRegressor()\n",
    "model.fit(train_x, train_y)\n",
    "model.score(test_x, test_y)"
   ]
  },
  {
   "cell_type": "code",
   "execution_count": 4,
   "id": "1a59567e-29c8-441c-92fb-daf077eee4a6",
   "metadata": {},
   "outputs": [
    {
     "data": {
      "text/plain": [
       "array([ 314.87547041,  -68.88638725, -195.88638725, ...,  -55.12452959,\n",
       "        -15.58168317,  -14.58168317])"
      ]
     },
     "execution_count": 4,
     "metadata": {},
     "output_type": "execute_result"
    }
   ],
   "source": [
    "from sklearn.tree import DecisionTreeRegressor\n",
    "\n",
    "model1 = DecisionTreeRegressor(max_depth=2)\n",
    "model1.fit(train_x, train_y)\n",
    "\n",
    "pred1 = model1.predict(train_x)\n",
    "\n",
    "error1 = train_y - pred1\n",
    "error1"
   ]
  },
  {
   "cell_type": "code",
   "execution_count": 5,
   "id": "99bbc99a-3e47-4730-a995-d44497c0153a",
   "metadata": {},
   "outputs": [
    {
     "data": {
      "text/plain": [
       "array([ 346.39802526,  -37.3638324 , -257.37808611, ...,  -23.60197474,\n",
       "         15.94087168,  -76.07338202])"
      ]
     },
     "execution_count": 5,
     "metadata": {},
     "output_type": "execute_result"
    }
   ],
   "source": [
    "model2 = DecisionTreeRegressor(max_depth=2)\n",
    "model2.fit(train_x, error1)\n",
    "\n",
    "pred2 = model2.predict(train_x)\n",
    "\n",
    "error2 = error1 - pred2\n",
    "error2"
   ]
  },
  {
   "cell_type": "code",
   "execution_count": 6,
   "id": "bcbd4212-6507-4132-8c8a-56e8414d7e49",
   "metadata": {},
   "outputs": [
    {
     "data": {
      "text/plain": [
       "array([ 225.34949828,  -34.87495645, -255.14262597, ..., -144.65050172,\n",
       "         18.17633182,  -73.83792189])"
      ]
     },
     "execution_count": 6,
     "metadata": {},
     "output_type": "execute_result"
    }
   ],
   "source": [
    "model3 = DecisionTreeRegressor(max_depth=2)\n",
    "model3.fit(train_x, error2)\n",
    "\n",
    "pred3 = model3.predict(train_x)\n",
    "\n",
    "error3 = error2 - pred3\n",
    "error3"
   ]
  },
  {
   "cell_type": "code",
   "execution_count": 7,
   "id": "563b3036-0d47-4346-9ba9-b7cf157d6ba4",
   "metadata": {},
   "outputs": [
    {
     "data": {
      "text/plain": [
       "array([ -9.17633182,  -9.17633182, 505.42661309, ...,  83.83792189,\n",
       "       373.66475543,  -9.17633182])"
      ]
     },
     "execution_count": 7,
     "metadata": {},
     "output_type": "execute_result"
    }
   ],
   "source": [
    "result1 = model1.predict(test_x)\n",
    "result2 = model2.predict(test_x)\n",
    "result3 = model3.predict(test_x)\n",
    "\n",
    "result = result1 + result2 + result3\n",
    "result"
   ]
  },
  {
   "cell_type": "code",
   "execution_count": 8,
   "id": "9672e2eb-4982-491b-9337-ff4ce06c6458",
   "metadata": {},
   "outputs": [
    {
     "data": {
      "text/plain": [
       "array([ -9.17633182,  -9.17633182, 505.42661309, ...,  83.83792189,\n",
       "       373.66475543,  -9.17633182])"
      ]
     },
     "execution_count": 8,
     "metadata": {},
     "output_type": "execute_result"
    }
   ],
   "source": [
    "from sklearn.ensemble import GradientBoostingRegressor\n",
    "\n",
    "model = GradientBoostingRegressor(max_depth=2, n_estimators=3,\n",
    "                                  learning_rate=1)\n",
    "\n",
    "model.fit(train_x, train_y)\n",
    "\n",
    "model.predict(test_x)"
   ]
  },
  {
   "cell_type": "code",
   "execution_count": 9,
   "id": "94e499c2-3513-4789-b464-b0562b965da4",
   "metadata": {},
   "outputs": [
    {
     "data": {
      "text/html": [
       "<div>\n",
       "<style scoped>\n",
       "    .dataframe tbody tr th:only-of-type {\n",
       "        vertical-align: middle;\n",
       "    }\n",
       "\n",
       "    .dataframe tbody tr th {\n",
       "        vertical-align: top;\n",
       "    }\n",
       "\n",
       "    .dataframe thead th {\n",
       "        text-align: right;\n",
       "    }\n",
       "</style>\n",
       "<table border=\"1\" class=\"dataframe\">\n",
       "  <thead>\n",
       "    <tr style=\"text-align: right;\">\n",
       "      <th></th>\n",
       "      <th>religion</th>\n",
       "      <th>income</th>\n",
       "      <th>count</th>\n",
       "    </tr>\n",
       "  </thead>\n",
       "  <tbody>\n",
       "    <tr>\n",
       "      <th>0</th>\n",
       "      <td>Agnostic</td>\n",
       "      <td>&lt;$10k</td>\n",
       "      <td>27</td>\n",
       "    </tr>\n",
       "    <tr>\n",
       "      <th>1</th>\n",
       "      <td>Atheist</td>\n",
       "      <td>&lt;$10k</td>\n",
       "      <td>12</td>\n",
       "    </tr>\n",
       "    <tr>\n",
       "      <th>2</th>\n",
       "      <td>Buddhist</td>\n",
       "      <td>&lt;$10k</td>\n",
       "      <td>27</td>\n",
       "    </tr>\n",
       "    <tr>\n",
       "      <th>3</th>\n",
       "      <td>Catholic</td>\n",
       "      <td>&lt;$10k</td>\n",
       "      <td>418</td>\n",
       "    </tr>\n",
       "    <tr>\n",
       "      <th>4</th>\n",
       "      <td>Don’t know/refused</td>\n",
       "      <td>&lt;$10k</td>\n",
       "      <td>15</td>\n",
       "    </tr>\n",
       "    <tr>\n",
       "      <th>...</th>\n",
       "      <td>...</td>\n",
       "      <td>...</td>\n",
       "      <td>...</td>\n",
       "    </tr>\n",
       "    <tr>\n",
       "      <th>175</th>\n",
       "      <td>Orthodox</td>\n",
       "      <td>Don't know/refused</td>\n",
       "      <td>73</td>\n",
       "    </tr>\n",
       "    <tr>\n",
       "      <th>176</th>\n",
       "      <td>Other Christian</td>\n",
       "      <td>Don't know/refused</td>\n",
       "      <td>18</td>\n",
       "    </tr>\n",
       "    <tr>\n",
       "      <th>177</th>\n",
       "      <td>Other Faiths</td>\n",
       "      <td>Don't know/refused</td>\n",
       "      <td>71</td>\n",
       "    </tr>\n",
       "    <tr>\n",
       "      <th>178</th>\n",
       "      <td>Other World Religions</td>\n",
       "      <td>Don't know/refused</td>\n",
       "      <td>8</td>\n",
       "    </tr>\n",
       "    <tr>\n",
       "      <th>179</th>\n",
       "      <td>Unaffiliated</td>\n",
       "      <td>Don't know/refused</td>\n",
       "      <td>597</td>\n",
       "    </tr>\n",
       "  </tbody>\n",
       "</table>\n",
       "<p>180 rows × 3 columns</p>\n",
       "</div>"
      ],
      "text/plain": [
       "                  religion              income  count\n",
       "0                 Agnostic               <$10k     27\n",
       "1                  Atheist               <$10k     12\n",
       "2                 Buddhist               <$10k     27\n",
       "3                 Catholic               <$10k    418\n",
       "4       Don’t know/refused               <$10k     15\n",
       "..                     ...                 ...    ...\n",
       "175               Orthodox  Don't know/refused     73\n",
       "176        Other Christian  Don't know/refused     18\n",
       "177           Other Faiths  Don't know/refused     71\n",
       "178  Other World Religions  Don't know/refused      8\n",
       "179           Unaffiliated  Don't know/refused    597\n",
       "\n",
       "[180 rows x 3 columns]"
      ]
     },
     "execution_count": 9,
     "metadata": {},
     "output_type": "execute_result"
    }
   ],
   "source": [
    "pew = pd.read_csv(\"pew.csv\")\n",
    "\n",
    "# country_timeseries.csv (에볼라 바이러스 생존자/사망자 데이터) Melting 하기\n",
    "\n",
    "# Melt: 열들을 행으로 내리는 방법 // 열들을 독립적으로 + 데이터개수늘리기\n",
    "pd.melt(pew, id_vars = \"religion\", var_name = 'income', value_name = 'count')"
   ]
  },
  {
   "cell_type": "code",
   "execution_count": 10,
   "id": "eb5d617a-e93c-4af9-a3d4-89c75766b724",
   "metadata": {},
   "outputs": [
    {
     "data": {
      "text/html": [
       "<div>\n",
       "<style scoped>\n",
       "    .dataframe tbody tr th:only-of-type {\n",
       "        vertical-align: middle;\n",
       "    }\n",
       "\n",
       "    .dataframe tbody tr th {\n",
       "        vertical-align: top;\n",
       "    }\n",
       "\n",
       "    .dataframe thead th {\n",
       "        text-align: right;\n",
       "    }\n",
       "</style>\n",
       "<table border=\"1\" class=\"dataframe\">\n",
       "  <thead>\n",
       "    <tr style=\"text-align: right;\">\n",
       "      <th></th>\n",
       "      <th>Date</th>\n",
       "      <th>Day</th>\n",
       "      <th>variable</th>\n",
       "      <th>value</th>\n",
       "      <th>State</th>\n",
       "      <th>Country</th>\n",
       "    </tr>\n",
       "  </thead>\n",
       "  <tbody>\n",
       "    <tr>\n",
       "      <th>0</th>\n",
       "      <td>1/5/2015</td>\n",
       "      <td>289</td>\n",
       "      <td>Cases_Guinea</td>\n",
       "      <td>2776.0</td>\n",
       "      <td>Cases</td>\n",
       "      <td>Guinea</td>\n",
       "    </tr>\n",
       "    <tr>\n",
       "      <th>1</th>\n",
       "      <td>1/4/2015</td>\n",
       "      <td>288</td>\n",
       "      <td>Cases_Guinea</td>\n",
       "      <td>2775.0</td>\n",
       "      <td>Cases</td>\n",
       "      <td>Guinea</td>\n",
       "    </tr>\n",
       "    <tr>\n",
       "      <th>2</th>\n",
       "      <td>1/3/2015</td>\n",
       "      <td>287</td>\n",
       "      <td>Cases_Guinea</td>\n",
       "      <td>2769.0</td>\n",
       "      <td>Cases</td>\n",
       "      <td>Guinea</td>\n",
       "    </tr>\n",
       "    <tr>\n",
       "      <th>3</th>\n",
       "      <td>1/2/2015</td>\n",
       "      <td>286</td>\n",
       "      <td>Cases_Guinea</td>\n",
       "      <td>NaN</td>\n",
       "      <td>Cases</td>\n",
       "      <td>Guinea</td>\n",
       "    </tr>\n",
       "    <tr>\n",
       "      <th>4</th>\n",
       "      <td>12/31/2014</td>\n",
       "      <td>284</td>\n",
       "      <td>Cases_Guinea</td>\n",
       "      <td>2730.0</td>\n",
       "      <td>Cases</td>\n",
       "      <td>Guinea</td>\n",
       "    </tr>\n",
       "    <tr>\n",
       "      <th>...</th>\n",
       "      <td>...</td>\n",
       "      <td>...</td>\n",
       "      <td>...</td>\n",
       "      <td>...</td>\n",
       "      <td>...</td>\n",
       "      <td>...</td>\n",
       "    </tr>\n",
       "    <tr>\n",
       "      <th>1947</th>\n",
       "      <td>3/27/2014</td>\n",
       "      <td>5</td>\n",
       "      <td>Deaths_Mali</td>\n",
       "      <td>NaN</td>\n",
       "      <td>Deaths</td>\n",
       "      <td>Mali</td>\n",
       "    </tr>\n",
       "    <tr>\n",
       "      <th>1948</th>\n",
       "      <td>3/26/2014</td>\n",
       "      <td>4</td>\n",
       "      <td>Deaths_Mali</td>\n",
       "      <td>NaN</td>\n",
       "      <td>Deaths</td>\n",
       "      <td>Mali</td>\n",
       "    </tr>\n",
       "    <tr>\n",
       "      <th>1949</th>\n",
       "      <td>3/25/2014</td>\n",
       "      <td>3</td>\n",
       "      <td>Deaths_Mali</td>\n",
       "      <td>NaN</td>\n",
       "      <td>Deaths</td>\n",
       "      <td>Mali</td>\n",
       "    </tr>\n",
       "    <tr>\n",
       "      <th>1950</th>\n",
       "      <td>3/24/2014</td>\n",
       "      <td>2</td>\n",
       "      <td>Deaths_Mali</td>\n",
       "      <td>NaN</td>\n",
       "      <td>Deaths</td>\n",
       "      <td>Mali</td>\n",
       "    </tr>\n",
       "    <tr>\n",
       "      <th>1951</th>\n",
       "      <td>3/22/2014</td>\n",
       "      <td>0</td>\n",
       "      <td>Deaths_Mali</td>\n",
       "      <td>NaN</td>\n",
       "      <td>Deaths</td>\n",
       "      <td>Mali</td>\n",
       "    </tr>\n",
       "  </tbody>\n",
       "</table>\n",
       "<p>1952 rows × 6 columns</p>\n",
       "</div>"
      ],
      "text/plain": [
       "            Date  Day      variable   value   State Country\n",
       "0       1/5/2015  289  Cases_Guinea  2776.0   Cases  Guinea\n",
       "1       1/4/2015  288  Cases_Guinea  2775.0   Cases  Guinea\n",
       "2       1/3/2015  287  Cases_Guinea  2769.0   Cases  Guinea\n",
       "3       1/2/2015  286  Cases_Guinea     NaN   Cases  Guinea\n",
       "4     12/31/2014  284  Cases_Guinea  2730.0   Cases  Guinea\n",
       "...          ...  ...           ...     ...     ...     ...\n",
       "1947   3/27/2014    5   Deaths_Mali     NaN  Deaths    Mali\n",
       "1948   3/26/2014    4   Deaths_Mali     NaN  Deaths    Mali\n",
       "1949   3/25/2014    3   Deaths_Mali     NaN  Deaths    Mali\n",
       "1950   3/24/2014    2   Deaths_Mali     NaN  Deaths    Mali\n",
       "1951   3/22/2014    0   Deaths_Mali     NaN  Deaths    Mali\n",
       "\n",
       "[1952 rows x 6 columns]"
      ]
     },
     "execution_count": 10,
     "metadata": {},
     "output_type": "execute_result"
    }
   ],
   "source": [
    "ebola = pd.read_csv(\"country_timeseries.csv\")\n",
    "ebola2 = pd.melt(ebola, id_vars = ['Date', 'Day'])\n",
    "\n",
    "state = ebola2['variable'].str.split(\"_\").str[0]\n",
    "country = ebola2['variable'].str.split(\"_\").str[1]\n",
    "\n",
    "ebola2['State'] = state\n",
    "ebola2['Country'] = country\n",
    "ebola2"
   ]
  },
  {
   "cell_type": "code",
   "execution_count": 11,
   "id": "23bc9ff6-2704-4d60-a149-68d51f27965e",
   "metadata": {},
   "outputs": [
    {
     "data": {
      "text/plain": [
       "2024-12-01     1.0\n",
       "2024-12-02     2.0\n",
       "2024-12-08     8.0\n",
       "2024-12-10    10.0\n",
       "dtype: float64"
      ]
     },
     "execution_count": 11,
     "metadata": {},
     "output_type": "execute_result"
    }
   ],
   "source": [
    "# 누락값\n",
    "import numpy as np\n",
    "\n",
    "date = ['2024-12-01', '2024-12-02', '2024-12-08', '2024-12-10']\n",
    "date = pd.to_datetime(date)\n",
    "\n",
    "a = [1, np.nan, np.nan, 10]\n",
    "\n",
    "s = pd.Series(a, index = date)\n",
    "s.interpolate(method = 'time')"
   ]
  },
  {
   "cell_type": "code",
   "execution_count": 12,
   "id": "01c5e5a5-4f1b-492d-8c58-0cee14bf3f21",
   "metadata": {},
   "outputs": [
    {
     "data": {
      "text/html": [
       "<div>\n",
       "<style scoped>\n",
       "    .dataframe tbody tr th:only-of-type {\n",
       "        vertical-align: middle;\n",
       "    }\n",
       "\n",
       "    .dataframe tbody tr th {\n",
       "        vertical-align: top;\n",
       "    }\n",
       "\n",
       "    .dataframe thead th {\n",
       "        text-align: right;\n",
       "    }\n",
       "</style>\n",
       "<table border=\"1\" class=\"dataframe\">\n",
       "  <thead>\n",
       "    <tr style=\"text-align: right;\">\n",
       "      <th></th>\n",
       "      <th>Day</th>\n",
       "      <th>Cases_Guinea</th>\n",
       "      <th>Cases_Liberia</th>\n",
       "      <th>Cases_SierraLeone</th>\n",
       "      <th>Cases_Nigeria</th>\n",
       "      <th>Cases_Senegal</th>\n",
       "      <th>Cases_UnitedStates</th>\n",
       "      <th>Cases_Spain</th>\n",
       "      <th>Cases_Mali</th>\n",
       "      <th>Deaths_Guinea</th>\n",
       "      <th>Deaths_Liberia</th>\n",
       "      <th>Deaths_SierraLeone</th>\n",
       "      <th>Deaths_Nigeria</th>\n",
       "      <th>Deaths_Senegal</th>\n",
       "      <th>Deaths_UnitedStates</th>\n",
       "      <th>Deaths_Spain</th>\n",
       "      <th>Deaths_Mali</th>\n",
       "    </tr>\n",
       "    <tr>\n",
       "      <th>Date</th>\n",
       "      <th></th>\n",
       "      <th></th>\n",
       "      <th></th>\n",
       "      <th></th>\n",
       "      <th></th>\n",
       "      <th></th>\n",
       "      <th></th>\n",
       "      <th></th>\n",
       "      <th></th>\n",
       "      <th></th>\n",
       "      <th></th>\n",
       "      <th></th>\n",
       "      <th></th>\n",
       "      <th></th>\n",
       "      <th></th>\n",
       "      <th></th>\n",
       "      <th></th>\n",
       "    </tr>\n",
       "  </thead>\n",
       "  <tbody>\n",
       "    <tr>\n",
       "      <th>2014-03-22</th>\n",
       "      <td>0</td>\n",
       "      <td>49.0</td>\n",
       "      <td>8.0</td>\n",
       "      <td>6.000000</td>\n",
       "      <td>0.0</td>\n",
       "      <td>1.0</td>\n",
       "      <td>1.0</td>\n",
       "      <td>1.0</td>\n",
       "      <td>1.0</td>\n",
       "      <td>29.000000</td>\n",
       "      <td>6.0</td>\n",
       "      <td>5.000000</td>\n",
       "      <td>0.0</td>\n",
       "      <td>0.0</td>\n",
       "      <td>0.0</td>\n",
       "      <td>1.0</td>\n",
       "      <td>1.0</td>\n",
       "    </tr>\n",
       "    <tr>\n",
       "      <th>2014-03-24</th>\n",
       "      <td>2</td>\n",
       "      <td>86.0</td>\n",
       "      <td>8.0</td>\n",
       "      <td>6.000000</td>\n",
       "      <td>0.0</td>\n",
       "      <td>1.0</td>\n",
       "      <td>1.0</td>\n",
       "      <td>1.0</td>\n",
       "      <td>1.0</td>\n",
       "      <td>59.000000</td>\n",
       "      <td>6.0</td>\n",
       "      <td>5.000000</td>\n",
       "      <td>0.0</td>\n",
       "      <td>0.0</td>\n",
       "      <td>0.0</td>\n",
       "      <td>1.0</td>\n",
       "      <td>1.0</td>\n",
       "    </tr>\n",
       "    <tr>\n",
       "      <th>2014-03-25</th>\n",
       "      <td>3</td>\n",
       "      <td>86.0</td>\n",
       "      <td>8.0</td>\n",
       "      <td>6.000000</td>\n",
       "      <td>0.0</td>\n",
       "      <td>1.0</td>\n",
       "      <td>1.0</td>\n",
       "      <td>1.0</td>\n",
       "      <td>1.0</td>\n",
       "      <td>60.000000</td>\n",
       "      <td>6.0</td>\n",
       "      <td>5.000000</td>\n",
       "      <td>0.0</td>\n",
       "      <td>0.0</td>\n",
       "      <td>0.0</td>\n",
       "      <td>1.0</td>\n",
       "      <td>1.0</td>\n",
       "    </tr>\n",
       "    <tr>\n",
       "      <th>2014-03-26</th>\n",
       "      <td>4</td>\n",
       "      <td>86.0</td>\n",
       "      <td>8.0</td>\n",
       "      <td>6.000000</td>\n",
       "      <td>0.0</td>\n",
       "      <td>1.0</td>\n",
       "      <td>1.0</td>\n",
       "      <td>1.0</td>\n",
       "      <td>1.0</td>\n",
       "      <td>62.000000</td>\n",
       "      <td>6.0</td>\n",
       "      <td>5.000000</td>\n",
       "      <td>0.0</td>\n",
       "      <td>0.0</td>\n",
       "      <td>0.0</td>\n",
       "      <td>1.0</td>\n",
       "      <td>1.0</td>\n",
       "    </tr>\n",
       "    <tr>\n",
       "      <th>2014-03-27</th>\n",
       "      <td>5</td>\n",
       "      <td>103.0</td>\n",
       "      <td>8.0</td>\n",
       "      <td>6.000000</td>\n",
       "      <td>0.0</td>\n",
       "      <td>1.0</td>\n",
       "      <td>1.0</td>\n",
       "      <td>1.0</td>\n",
       "      <td>1.0</td>\n",
       "      <td>66.000000</td>\n",
       "      <td>6.0</td>\n",
       "      <td>5.000000</td>\n",
       "      <td>0.0</td>\n",
       "      <td>0.0</td>\n",
       "      <td>0.0</td>\n",
       "      <td>1.0</td>\n",
       "      <td>1.0</td>\n",
       "    </tr>\n",
       "    <tr>\n",
       "      <th>...</th>\n",
       "      <td>...</td>\n",
       "      <td>...</td>\n",
       "      <td>...</td>\n",
       "      <td>...</td>\n",
       "      <td>...</td>\n",
       "      <td>...</td>\n",
       "      <td>...</td>\n",
       "      <td>...</td>\n",
       "      <td>...</td>\n",
       "      <td>...</td>\n",
       "      <td>...</td>\n",
       "      <td>...</td>\n",
       "      <td>...</td>\n",
       "      <td>...</td>\n",
       "      <td>...</td>\n",
       "      <td>...</td>\n",
       "      <td>...</td>\n",
       "    </tr>\n",
       "    <tr>\n",
       "      <th>2014-12-31</th>\n",
       "      <td>284</td>\n",
       "      <td>2730.0</td>\n",
       "      <td>8115.0</td>\n",
       "      <td>9633.000000</td>\n",
       "      <td>20.0</td>\n",
       "      <td>1.0</td>\n",
       "      <td>4.0</td>\n",
       "      <td>1.0</td>\n",
       "      <td>7.0</td>\n",
       "      <td>1739.000000</td>\n",
       "      <td>3471.0</td>\n",
       "      <td>2827.000000</td>\n",
       "      <td>8.0</td>\n",
       "      <td>0.0</td>\n",
       "      <td>1.0</td>\n",
       "      <td>0.0</td>\n",
       "      <td>6.0</td>\n",
       "    </tr>\n",
       "    <tr>\n",
       "      <th>2015-01-02</th>\n",
       "      <td>286</td>\n",
       "      <td>2756.0</td>\n",
       "      <td>8157.0</td>\n",
       "      <td>9692.333333</td>\n",
       "      <td>20.0</td>\n",
       "      <td>1.0</td>\n",
       "      <td>4.0</td>\n",
       "      <td>1.0</td>\n",
       "      <td>7.0</td>\n",
       "      <td>1757.666667</td>\n",
       "      <td>3496.0</td>\n",
       "      <td>2885.666667</td>\n",
       "      <td>8.0</td>\n",
       "      <td>0.0</td>\n",
       "      <td>1.0</td>\n",
       "      <td>0.0</td>\n",
       "      <td>6.0</td>\n",
       "    </tr>\n",
       "    <tr>\n",
       "      <th>2015-01-03</th>\n",
       "      <td>287</td>\n",
       "      <td>2769.0</td>\n",
       "      <td>8166.0</td>\n",
       "      <td>9722.000000</td>\n",
       "      <td>20.0</td>\n",
       "      <td>1.0</td>\n",
       "      <td>4.0</td>\n",
       "      <td>1.0</td>\n",
       "      <td>7.0</td>\n",
       "      <td>1767.000000</td>\n",
       "      <td>3496.0</td>\n",
       "      <td>2915.000000</td>\n",
       "      <td>8.0</td>\n",
       "      <td>0.0</td>\n",
       "      <td>1.0</td>\n",
       "      <td>0.0</td>\n",
       "      <td>6.0</td>\n",
       "    </tr>\n",
       "    <tr>\n",
       "      <th>2015-01-04</th>\n",
       "      <td>288</td>\n",
       "      <td>2775.0</td>\n",
       "      <td>8166.0</td>\n",
       "      <td>9780.000000</td>\n",
       "      <td>20.0</td>\n",
       "      <td>1.0</td>\n",
       "      <td>4.0</td>\n",
       "      <td>1.0</td>\n",
       "      <td>7.0</td>\n",
       "      <td>1781.000000</td>\n",
       "      <td>3496.0</td>\n",
       "      <td>2943.000000</td>\n",
       "      <td>8.0</td>\n",
       "      <td>0.0</td>\n",
       "      <td>1.0</td>\n",
       "      <td>0.0</td>\n",
       "      <td>6.0</td>\n",
       "    </tr>\n",
       "    <tr>\n",
       "      <th>2015-01-05</th>\n",
       "      <td>289</td>\n",
       "      <td>2776.0</td>\n",
       "      <td>8166.0</td>\n",
       "      <td>10030.000000</td>\n",
       "      <td>20.0</td>\n",
       "      <td>1.0</td>\n",
       "      <td>4.0</td>\n",
       "      <td>1.0</td>\n",
       "      <td>7.0</td>\n",
       "      <td>1786.000000</td>\n",
       "      <td>3496.0</td>\n",
       "      <td>2977.000000</td>\n",
       "      <td>8.0</td>\n",
       "      <td>0.0</td>\n",
       "      <td>1.0</td>\n",
       "      <td>0.0</td>\n",
       "      <td>6.0</td>\n",
       "    </tr>\n",
       "  </tbody>\n",
       "</table>\n",
       "<p>122 rows × 17 columns</p>\n",
       "</div>"
      ],
      "text/plain": [
       "            Day  Cases_Guinea  Cases_Liberia  Cases_SierraLeone  \\\n",
       "Date                                                              \n",
       "2014-03-22    0          49.0            8.0           6.000000   \n",
       "2014-03-24    2          86.0            8.0           6.000000   \n",
       "2014-03-25    3          86.0            8.0           6.000000   \n",
       "2014-03-26    4          86.0            8.0           6.000000   \n",
       "2014-03-27    5         103.0            8.0           6.000000   \n",
       "...         ...           ...            ...                ...   \n",
       "2014-12-31  284        2730.0         8115.0        9633.000000   \n",
       "2015-01-02  286        2756.0         8157.0        9692.333333   \n",
       "2015-01-03  287        2769.0         8166.0        9722.000000   \n",
       "2015-01-04  288        2775.0         8166.0        9780.000000   \n",
       "2015-01-05  289        2776.0         8166.0       10030.000000   \n",
       "\n",
       "            Cases_Nigeria  Cases_Senegal  Cases_UnitedStates  Cases_Spain  \\\n",
       "Date                                                                        \n",
       "2014-03-22            0.0            1.0                 1.0          1.0   \n",
       "2014-03-24            0.0            1.0                 1.0          1.0   \n",
       "2014-03-25            0.0            1.0                 1.0          1.0   \n",
       "2014-03-26            0.0            1.0                 1.0          1.0   \n",
       "2014-03-27            0.0            1.0                 1.0          1.0   \n",
       "...                   ...            ...                 ...          ...   \n",
       "2014-12-31           20.0            1.0                 4.0          1.0   \n",
       "2015-01-02           20.0            1.0                 4.0          1.0   \n",
       "2015-01-03           20.0            1.0                 4.0          1.0   \n",
       "2015-01-04           20.0            1.0                 4.0          1.0   \n",
       "2015-01-05           20.0            1.0                 4.0          1.0   \n",
       "\n",
       "            Cases_Mali  Deaths_Guinea  Deaths_Liberia  Deaths_SierraLeone  \\\n",
       "Date                                                                        \n",
       "2014-03-22         1.0      29.000000             6.0            5.000000   \n",
       "2014-03-24         1.0      59.000000             6.0            5.000000   \n",
       "2014-03-25         1.0      60.000000             6.0            5.000000   \n",
       "2014-03-26         1.0      62.000000             6.0            5.000000   \n",
       "2014-03-27         1.0      66.000000             6.0            5.000000   \n",
       "...                ...            ...             ...                 ...   \n",
       "2014-12-31         7.0    1739.000000          3471.0         2827.000000   \n",
       "2015-01-02         7.0    1757.666667          3496.0         2885.666667   \n",
       "2015-01-03         7.0    1767.000000          3496.0         2915.000000   \n",
       "2015-01-04         7.0    1781.000000          3496.0         2943.000000   \n",
       "2015-01-05         7.0    1786.000000          3496.0         2977.000000   \n",
       "\n",
       "            Deaths_Nigeria  Deaths_Senegal  Deaths_UnitedStates  Deaths_Spain  \\\n",
       "Date                                                                            \n",
       "2014-03-22             0.0             0.0                  0.0           1.0   \n",
       "2014-03-24             0.0             0.0                  0.0           1.0   \n",
       "2014-03-25             0.0             0.0                  0.0           1.0   \n",
       "2014-03-26             0.0             0.0                  0.0           1.0   \n",
       "2014-03-27             0.0             0.0                  0.0           1.0   \n",
       "...                    ...             ...                  ...           ...   \n",
       "2014-12-31             8.0             0.0                  1.0           0.0   \n",
       "2015-01-02             8.0             0.0                  1.0           0.0   \n",
       "2015-01-03             8.0             0.0                  1.0           0.0   \n",
       "2015-01-04             8.0             0.0                  1.0           0.0   \n",
       "2015-01-05             8.0             0.0                  1.0           0.0   \n",
       "\n",
       "            Deaths_Mali  \n",
       "Date                     \n",
       "2014-03-22          1.0  \n",
       "2014-03-24          1.0  \n",
       "2014-03-25          1.0  \n",
       "2014-03-26          1.0  \n",
       "2014-03-27          1.0  \n",
       "...                 ...  \n",
       "2014-12-31          6.0  \n",
       "2015-01-02          6.0  \n",
       "2015-01-03          6.0  \n",
       "2015-01-04          6.0  \n",
       "2015-01-05          6.0  \n",
       "\n",
       "[122 rows x 17 columns]"
      ]
     },
     "execution_count": 12,
     "metadata": {},
     "output_type": "execute_result"
    }
   ],
   "source": [
    "ebola = pd.read_csv(\"country_timeseries.csv\")\n",
    "ebola['Date'] = pd.to_datetime(ebola['Date'])\n",
    "ebola = ebola.set_index(\"Date\")\n",
    "ebola = ebola.sort_index()\n",
    "ebola = ebola.interpolate(method = 'time')\n",
    "ebola = ebola.ffill()\n",
    "ebola = ebola.bfill()\n",
    "ebola"
   ]
  },
  {
   "cell_type": "code",
   "execution_count": 13,
   "id": "bbf0d2aa-cd3c-4570-8290-44d2fbf1ead9",
   "metadata": {},
   "outputs": [
    {
     "data": {
      "text/plain": [
       "array([-1, -2, -3])"
      ]
     },
     "execution_count": 13,
     "metadata": {},
     "output_type": "execute_result"
    }
   ],
   "source": [
    "# 딥러닝 원리 이해하기 : 경사하강법\n",
    "import numpy as np\n",
    "\n",
    "x = np.array([1,2,3])\n",
    "y = np.array([2,4,6])\n",
    "\n",
    "x - y"
   ]
  },
  {
   "cell_type": "code",
   "execution_count": 14,
   "id": "1ec5d1c6-dd80-4476-9dad-c52b4c6304fc",
   "metadata": {},
   "outputs": [
    {
     "data": {
      "text/plain": [
       "array([ 2,  8, 18])"
      ]
     },
     "execution_count": 14,
     "metadata": {},
     "output_type": "execute_result"
    }
   ],
   "source": [
    "x * y"
   ]
  },
  {
   "cell_type": "code",
   "execution_count": 15,
   "id": "5c9f370c-e6a5-407c-a73e-980ec6e039ba",
   "metadata": {},
   "outputs": [
    {
     "data": {
      "text/plain": [
       "array([10, 20, 30])"
      ]
     },
     "execution_count": 15,
     "metadata": {},
     "output_type": "execute_result"
    }
   ],
   "source": [
    "x * 10"
   ]
  },
  {
   "cell_type": "code",
   "execution_count": 16,
   "id": "bb9706ed-3d9c-4d69-82b2-83b26688f8c0",
   "metadata": {},
   "outputs": [],
   "source": [
    "A = np.array([[1,2],[3,4]])\n",
    "B = np.array([[3,0],[0,6]])"
   ]
  },
  {
   "cell_type": "code",
   "execution_count": 17,
   "id": "97fe1539-78f6-49df-8dfe-0abbfc61f04a",
   "metadata": {},
   "outputs": [
    {
     "data": {
      "text/plain": [
       "array([[1, 2],\n",
       "       [3, 4]])"
      ]
     },
     "execution_count": 17,
     "metadata": {},
     "output_type": "execute_result"
    }
   ],
   "source": [
    "A"
   ]
  },
  {
   "cell_type": "code",
   "execution_count": 18,
   "id": "600d3b6b-257e-4c93-b436-885f93b8c3f8",
   "metadata": {},
   "outputs": [
    {
     "data": {
      "text/plain": [
       "array([[ 4,  2],\n",
       "       [ 3, 10]])"
      ]
     },
     "execution_count": 18,
     "metadata": {},
     "output_type": "execute_result"
    }
   ],
   "source": [
    "A + B"
   ]
  },
  {
   "cell_type": "code",
   "execution_count": 19,
   "id": "098b1818-c59e-4111-934a-b330a0c30d06",
   "metadata": {},
   "outputs": [
    {
     "data": {
      "text/plain": [
       "array([[ 3,  0],\n",
       "       [ 0, 24]])"
      ]
     },
     "execution_count": 19,
     "metadata": {},
     "output_type": "execute_result"
    }
   ],
   "source": [
    "A * B"
   ]
  },
  {
   "cell_type": "code",
   "execution_count": 20,
   "id": "da72af7b-3ec4-42fa-8b25-853788280e7d",
   "metadata": {},
   "outputs": [
    {
     "data": {
      "text/plain": [
       "array([[1, 2],\n",
       "       [3, 4]])"
      ]
     },
     "execution_count": 20,
     "metadata": {},
     "output_type": "execute_result"
    }
   ],
   "source": [
    "A"
   ]
  },
  {
   "cell_type": "code",
   "execution_count": 21,
   "id": "41be1698-3918-4ad1-92a4-4022c91d9f39",
   "metadata": {},
   "outputs": [
    {
     "data": {
      "text/plain": [
       "array([[3, 0],\n",
       "       [0, 6]])"
      ]
     },
     "execution_count": 21,
     "metadata": {},
     "output_type": "execute_result"
    }
   ],
   "source": [
    "B"
   ]
  },
  {
   "cell_type": "code",
   "execution_count": 22,
   "id": "ba64b804-1f1d-46e6-a143-5165b53ec824",
   "metadata": {},
   "outputs": [
    {
     "data": {
      "text/plain": [
       "array([[ 3,  0],\n",
       "       [ 0, 24]])"
      ]
     },
     "execution_count": 22,
     "metadata": {},
     "output_type": "execute_result"
    }
   ],
   "source": [
    "A * B"
   ]
  },
  {
   "cell_type": "code",
   "execution_count": 23,
   "id": "c9212be7-f715-46f6-abef-01a09049af16",
   "metadata": {},
   "outputs": [
    {
     "data": {
      "text/plain": [
       "array([[10, 20],\n",
       "       [30, 40]])"
      ]
     },
     "execution_count": 23,
     "metadata": {},
     "output_type": "execute_result"
    }
   ],
   "source": [
    "A * 10"
   ]
  },
  {
   "cell_type": "code",
   "execution_count": 24,
   "id": "002bc121-57a5-4cd7-94d9-691cf5142ee7",
   "metadata": {},
   "outputs": [],
   "source": [
    "A = np.array([[1,2,],[3,4]])\n",
    "B = np.array([10, 20]) # 브로드캐스트"
   ]
  },
  {
   "cell_type": "code",
   "execution_count": 25,
   "id": "9d3c6cc0-f890-42d6-afbe-1ba1204da7a7",
   "metadata": {},
   "outputs": [
    {
     "data": {
      "text/plain": [
       "array([[10, 40],\n",
       "       [30, 80]])"
      ]
     },
     "execution_count": 25,
     "metadata": {},
     "output_type": "execute_result"
    }
   ],
   "source": [
    "A * B"
   ]
  },
  {
   "cell_type": "code",
   "execution_count": 26,
   "id": "f1955f91-cdb5-4066-ba78-a33ea8182bc3",
   "metadata": {},
   "outputs": [
    {
     "data": {
      "text/plain": [
       "array([1, 2, 3, 4, 5, 6])"
      ]
     },
     "execution_count": 26,
     "metadata": {},
     "output_type": "execute_result"
    }
   ],
   "source": [
    "A = np.array([[1,2], [3,4], [5,6]])\n",
    "A.flatten() # 1차원 행렬 만들기"
   ]
  },
  {
   "cell_type": "code",
   "execution_count": 27,
   "id": "42980b0e-e86c-4e3f-93d6-08c8efd7eac8",
   "metadata": {},
   "outputs": [],
   "source": [
    "# 만경관\n",
    "# OR, NAND 함수 만들기!\n",
    "\n",
    "def AND(x1, x2):\n",
    "    x = np.array([x1, x2])\n",
    "    w = np.array([0.5, 0.5])\n",
    "    b = -0.7\n",
    "\n",
    "    result = np.sum(x * w) + b\n",
    "\n",
    "    if result <= 0:\n",
    "        return 0\n",
    "    else:\n",
    "        return 1"
   ]
  },
  {
   "cell_type": "code",
   "execution_count": 28,
   "id": "886783f1-686b-483e-b114-509733df42c8",
   "metadata": {},
   "outputs": [
    {
     "name": "stdout",
     "output_type": "stream",
     "text": [
      "0\n",
      "0\n",
      "0\n",
      "1\n"
     ]
    }
   ],
   "source": [
    "print(AND(0, 0))\n",
    "print(AND(0, 1))\n",
    "print(AND(1, 0))\n",
    "print(AND(1, 1))"
   ]
  },
  {
   "cell_type": "code",
   "execution_count": 29,
   "id": "f37da1d7-ddd2-4f20-a7de-c7d72f94a664",
   "metadata": {},
   "outputs": [],
   "source": [
    "def OR(x1, x2):\n",
    "    x = np.array([x1, x2])\n",
    "    w = np.array([0.5, 0.5])\n",
    "    b = -0.2\n",
    "\n",
    "    result = np.sum(x * w) + b\n",
    "\n",
    "    if result <= 0:\n",
    "        return 0\n",
    "    else:\n",
    "        return 1"
   ]
  },
  {
   "cell_type": "code",
   "execution_count": 30,
   "id": "ab25c74f-d692-42c7-89aa-5b5c64ce59e0",
   "metadata": {},
   "outputs": [
    {
     "name": "stdout",
     "output_type": "stream",
     "text": [
      "0\n",
      "1\n",
      "1\n",
      "1\n"
     ]
    }
   ],
   "source": [
    "print(OR(0, 0))\n",
    "print(OR(0, 1))\n",
    "print(OR(1, 0))\n",
    "print(OR(1, 1))"
   ]
  },
  {
   "cell_type": "code",
   "execution_count": 31,
   "id": "3a53172f-ff79-4aac-b798-d503a62db0fa",
   "metadata": {},
   "outputs": [],
   "source": [
    "def NAND(x1, x2):\n",
    "    x = np.array([x1, x2])\n",
    "    w = np.array([-0.5, -0.5])\n",
    "    b = 0.7\n",
    "\n",
    "    result = np.sum(x * w) + b\n",
    "\n",
    "    if result <= 0:\n",
    "        return 0\n",
    "    else:\n",
    "        return 1"
   ]
  },
  {
   "cell_type": "code",
   "execution_count": 32,
   "id": "ec95ed05-1a8b-45ed-a2f7-2d38c5b3b6eb",
   "metadata": {},
   "outputs": [
    {
     "name": "stdout",
     "output_type": "stream",
     "text": [
      "1\n",
      "1\n",
      "1\n",
      "0\n"
     ]
    }
   ],
   "source": [
    "print(NAND(0, 0))\n",
    "print(NAND(0, 1))\n",
    "print(NAND(1, 0))\n",
    "print(NAND(1, 1))"
   ]
  },
  {
   "cell_type": "code",
   "execution_count": 33,
   "id": "4b9b19e4-5fc4-48df-8adc-8e650d18a056",
   "metadata": {},
   "outputs": [],
   "source": [
    "# XOR 구현하기\n",
    "# 0, 0 = 0\n",
    "# 1, 0 = 1\n",
    "# 0, 1 = 1\n",
    "# 1, 1 = 0\n",
    "\n",
    "def XOR(x1, x2):\n",
    "    s1 = NAND(x1, x2)\n",
    "    s2 = OR(x1, x2)\n",
    "    y = AND(s1, s2)\n",
    "    return y"
   ]
  },
  {
   "cell_type": "code",
   "execution_count": 34,
   "id": "11b8509d-6559-4d3b-a3fa-671f690f9b32",
   "metadata": {},
   "outputs": [
    {
     "name": "stdout",
     "output_type": "stream",
     "text": [
      "0\n",
      "1\n",
      "1\n",
      "0\n"
     ]
    }
   ],
   "source": [
    "print(XOR(0, 0))\n",
    "print(XOR(0, 1))\n",
    "print(XOR(1, 0))\n",
    "print(XOR(1, 1))"
   ]
  },
  {
   "cell_type": "code",
   "execution_count": 35,
   "id": "44dd503d-69f1-45e7-aa0e-05671fdb22f6",
   "metadata": {},
   "outputs": [],
   "source": [
    "def step_funtion(x):\n",
    "    y = x > 0\n",
    "    return y.astype(np.int32)"
   ]
  },
  {
   "cell_type": "code",
   "execution_count": 36,
   "id": "921e8e5c-a30d-4eb3-9733-926163a0530d",
   "metadata": {},
   "outputs": [
    {
     "data": {
      "image/png": "[encoded data removed]",
      "text/plain": [
       "<Figure size 640x480 with 1 Axes>"
      ]
     },
     "metadata": {},
     "output_type": "display_data"
    }
   ],
   "source": [
    "import matplotlib.pyplot as plt\n",
    "\n",
    "x = np.arange(-5, 5, 0.1)\n",
    "y = step_funtion(x)\n",
    "\n",
    "plt.plot(x, y)\n",
    "plt.show()"
   ]
  },
  {
   "cell_type": "code",
   "execution_count": 37,
   "id": "74feb316-aee1-41cb-9170-a8d04a41f2e2",
   "metadata": {},
   "outputs": [],
   "source": [
    "def sigmoid(x):\n",
    "    return (1 / (1 + np.exp(-x)))"
   ]
  },
  {
   "cell_type": "code",
   "execution_count": 38,
   "id": "3a27a1c3-83eb-4132-b80c-b45891cac3f7",
   "metadata": {},
   "outputs": [
    {
     "data": {
      "image/png": "[encoded data removed]",
      "text/plain": [
       "<Figure size 640x480 with 1 Axes>"
      ]
     },
     "metadata": {},
     "output_type": "display_data"
    }
   ],
   "source": [
    "x = np.arange(-5, 5, 0.1)\n",
    "y = sigmoid(x)\n",
    "\n",
    "plt.plot(x, y)\n",
    "plt.show()"
   ]
  },
  {
   "cell_type": "code",
   "execution_count": 39,
   "id": "d5001674-a030-4143-80ac-31a72a8bcac6",
   "metadata": {},
   "outputs": [
    {
     "data": {
      "text/plain": [
       "array([0.99752738, 0.99752738, 0.99752738])"
      ]
     },
     "execution_count": 39,
     "metadata": {},
     "output_type": "execute_result"
    }
   ],
   "source": [
    "x = np.array([1,2])\n",
    "w = np.array([[1,1,1], [2,2,2]])\n",
    "b = np.array([1,1,1])\n",
    "\n",
    "A1 = np.dot(x, w) + b\n",
    "Z1 = sigmoid(A1)\n",
    "Z1"
   ]
  },
  {
   "cell_type": "code",
   "execution_count": 40,
   "id": "18d14d18-231d-4dc2-9f51-bd88364c05fe",
   "metadata": {},
   "outputs": [
    {
     "data": {
      "text/plain": [
       "array([0.93951297, 0.8513637 ])"
      ]
     },
     "execution_count": 40,
     "metadata": {},
     "output_type": "execute_result"
    }
   ],
   "source": [
    "w2 = np.random.rand(3, 2)\n",
    "b2 = np.random.rand(2)\n",
    "\n",
    "A2 = np.dot(Z1, w2) + b2\n",
    "Z2 = sigmoid(A2)\n",
    "Z2"
   ]
  },
  {
   "cell_type": "code",
   "execution_count": 41,
   "id": "b4a14281-27bf-49e7-9809-1194b9ef3e0d",
   "metadata": {},
   "outputs": [
    {
     "data": {
      "text/plain": [
       "array([1.1443845 , 1.08331639])"
      ]
     },
     "execution_count": 41,
     "metadata": {},
     "output_type": "execute_result"
    }
   ],
   "source": [
    "w3 = np.random.rand(2, 2)\n",
    "b3 = np.random.rand(2)\n",
    "\n",
    "A3 = np.dot(Z2, w3) + b3\n",
    "A3"
   ]
  },
  {
   "cell_type": "code",
   "execution_count": 42,
   "id": "b651c6cb-d746-4752-bfc2-02336613ee8e",
   "metadata": {},
   "outputs": [],
   "source": [
    "def init_network():\n",
    "    net = {}\n",
    "    net['W1'] = np.array([[0.1, 0.3, 0.5], [0.2, 0.4, 0.6]])\n",
    "    net['b1'] = np.array([0.1, 0.2, 0.3])\n",
    "    net['W2'] = np.array([[0.1, 0.4], [0.2, 0.5], [0.3, 0.6]])\n",
    "    net['b2'] = np.array([0.1, 0.2])\n",
    "    net['W3'] = np.array([[0.1, 0.3], [0.2, 0.4]])\n",
    "    net['b3'] = np.array([0.1, 0.2])\n",
    "    return net"
   ]
  },
  {
   "cell_type": "code",
   "execution_count": 115,
   "id": "4a99b922-8daa-4e7e-a659-ea7b36306e5c",
   "metadata": {},
   "outputs": [],
   "source": [
    "def forward(net, x):\n",
    "    w1, w2, w3 = net['W1'], net['W2'], net['W3']\n",
    "    b1, b2, b3 = net['b1'], net['b2'], net['b3']\n",
    "\n",
    "    a1 = np.dot(x, w1) + b1\n",
    "    z1 = sigmoid(a1)\n",
    "\n",
    "    a2 = np.dot(z1, w2) + b2\n",
    "    z2 = sigmoid(a2)\n",
    "\n",
    "    a3 = np.dot(z2, w3) + b3\n",
    "    y = softmax(a3)\n",
    "    return y"
   ]
  },
  {
   "cell_type": "code",
   "execution_count": 117,
   "id": "cfe5fb1e-330a-4fe8-ac3b-81949ee66102",
   "metadata": {},
   "outputs": [
    {
     "data": {
      "text/plain": [
       "array([0.40413256, 0.59586744])"
      ]
     },
     "execution_count": 117,
     "metadata": {},
     "output_type": "execute_result"
    }
   ],
   "source": [
    "net = init_network()\n",
    "\n",
    "x = np.array([1,2])\n",
    "y = forward(net, x)\n",
    "y"
   ]
  },
  {
   "cell_type": "code",
   "execution_count": 119,
   "id": "7c5f8b80-075f-4e7d-b2ae-1dbcc9300d61",
   "metadata": {},
   "outputs": [
    {
     "data": {
      "text/plain": [
       "array([ 1.34985881, 18.17414537, 54.59815003])"
      ]
     },
     "execution_count": 119,
     "metadata": {},
     "output_type": "execute_result"
    }
   ],
   "source": [
    "# 분류 모델 출력층 설계하기\n",
    "a = np.array([0.3, 2.9, 4]) # 출력층에서 통과된 값\n",
    "\n",
    "exp_a = np.exp(a)\n",
    "exp_a"
   ]
  },
  {
   "cell_type": "code",
   "execution_count": 121,
   "id": "d6cf514a-73ed-464d-bcba-3592de65300c",
   "metadata": {},
   "outputs": [
    {
     "data": {
      "text/plain": [
       "1"
      ]
     },
     "execution_count": 121,
     "metadata": {},
     "output_type": "execute_result"
    }
   ],
   "source": [
    "a.ndim"
   ]
  },
  {
   "cell_type": "code",
   "execution_count": 123,
   "id": "d9484034-4202-485e-b4b9-6a69e1bc125a",
   "metadata": {},
   "outputs": [
    {
     "data": {
      "text/plain": [
       "74.1221542101633"
      ]
     },
     "execution_count": 123,
     "metadata": {},
     "output_type": "execute_result"
    }
   ],
   "source": [
    "sum_exp_a = np.sum(exp_a)\n",
    "sum_exp_a"
   ]
  },
  {
   "cell_type": "code",
   "execution_count": 125,
   "id": "d40c8add-84f3-48b9-a832-826ff96577f2",
   "metadata": {},
   "outputs": [
    {
     "data": {
      "text/plain": [
       "array([0.01821127, 0.24519181, 0.73659691])"
      ]
     },
     "execution_count": 125,
     "metadata": {},
     "output_type": "execute_result"
    }
   ],
   "source": [
    "y = exp_a / sum_exp_a\n",
    "y"
   ]
  },
  {
   "cell_type": "code",
   "execution_count": 127,
   "id": "68a5191b-dab3-4c44-9c53-7376837e17a5",
   "metadata": {},
   "outputs": [],
   "source": [
    "def softmax(x):\n",
    "    if x.ndim == 1:\n",
    "        c = np.max(x)\n",
    "        exp_a = np.exp(x-c)\n",
    "        sum_exp_a = np.sum(exp_a)\n",
    "        y = exp_a / sum_exp_a\n",
    "        return y\n",
    "    elif x.ndim == 2:\n",
    "        c = np.max(x, axis = 1).reshape(-1, 1)\n",
    "        exp_a = np.exp(x - c)\n",
    "        sum_exp_a = np.sum(exp_a, axis = 1).reshape(-1, 1)\n",
    "        y = exp_a / sum_exp_a\n",
    "        return y"
   ]
  },
  {
   "cell_type": "code",
   "execution_count": 129,
   "id": "3e65a901-8ee6-4cc7-a7e8-2ac2e9728ef2",
   "metadata": {},
   "outputs": [
    {
     "data": {
      "text/plain": [
       "array([9.99954600e-01, 4.53978686e-05, 2.06106005e-09])"
      ]
     },
     "execution_count": 129,
     "metadata": {},
     "output_type": "execute_result"
    }
   ],
   "source": [
    "a = np.array([1010, 1000, 990])\n",
    "softmax(a)"
   ]
  },
  {
   "cell_type": "code",
   "execution_count": 131,
   "id": "76dcbcbf-8c5a-4193-b934-bb77fb0bb11f",
   "metadata": {},
   "outputs": [
    {
     "data": {
      "text/plain": [
       "array([[0.25462853, 0.28140804, 0.46396343],\n",
       "       [0.32204346, 0.35591307, 0.32204346]])"
      ]
     },
     "execution_count": 131,
     "metadata": {},
     "output_type": "execute_result"
    }
   ],
   "source": [
    "x = np.array([[0.1, 0.2, 0.7],\n",
    "              [0.3, 0.4, 0.3]])\n",
    "\n",
    "c = np.max(x, axis = 1).reshape(-1, 1)\n",
    "exp_a = np.exp(x - c)\n",
    "sum_exp_a = np.sum(exp_a, axis = 1).reshape(-1, 1)\n",
    "y = exp_a / sum_exp_a\n",
    "y"
   ]
  },
  {
   "cell_type": "code",
   "execution_count": 132,
   "id": "a0efa507-8f2f-4e4b-b3c8-d519b1f392bc",
   "metadata": {},
   "outputs": [
    {
     "data": {
      "text/plain": [
       "2"
      ]
     },
     "execution_count": 132,
     "metadata": {},
     "output_type": "execute_result"
    }
   ],
   "source": [
    "x.ndim"
   ]
  },
  {
   "cell_type": "code",
   "execution_count": 133,
   "id": "1cb4979d-2dd2-4598-8d88-78ce0b866bf9",
   "metadata": {},
   "outputs": [],
   "source": [
    "import pickle\n",
    "\n",
    "f = open(\"sample_weight.pkl\", 'rb')\n",
    "net = pickle.load(f)\n",
    "f.close()"
   ]
  },
  {
   "cell_type": "code",
   "execution_count": 134,
   "id": "2a16b110-cbd9-4611-8f34-58e57f96ff11",
   "metadata": {},
   "outputs": [
    {
     "data": {
      "text/plain": [
       "dict_keys(['b2', 'W1', 'b1', 'W2', 'W3', 'b3'])"
      ]
     },
     "execution_count": 134,
     "metadata": {},
     "output_type": "execute_result"
    }
   ],
   "source": [
    "net.keys()"
   ]
  },
  {
   "cell_type": "code",
   "execution_count": 135,
   "id": "45f2607f-faf6-4efb-bfbc-77b77411074a",
   "metadata": {},
   "outputs": [
    {
     "data": {
      "text/plain": [
       "((784, 50), (50, 100), (100, 10))"
      ]
     },
     "execution_count": 135,
     "metadata": {},
     "output_type": "execute_result"
    }
   ],
   "source": [
    "net['W1'].shape, net['W2'].shape, net['W3'].shape"
   ]
  },
  {
   "cell_type": "code",
   "execution_count": 136,
   "id": "75dbcd57-32ce-4a54-9bae-844531974109",
   "metadata": {},
   "outputs": [
    {
     "data": {
      "text/plain": [
       "((50,), (100,), (10,))"
      ]
     },
     "execution_count": 136,
     "metadata": {},
     "output_type": "execute_result"
    }
   ],
   "source": [
    "net['b1'].shape, net['b2'].shape, net['b3'].shape"
   ]
  },
  {
   "cell_type": "code",
   "execution_count": 137,
   "id": "df6d5731-b100-4e77-9c2b-b64fd5915266",
   "metadata": {},
   "outputs": [],
   "source": [
    "f = open(\"MNIST_DATA.dat\", 'rb')\n",
    "X, Y = pickle.load(f)\n",
    "f.close()"
   ]
  },
  {
   "cell_type": "code",
   "execution_count": 141,
   "id": "67ec3aae-683f-4655-8626-f15f645ec581",
   "metadata": {},
   "outputs": [
    {
     "data": {
      "image/png": "[encoded data removed]",
      "text/plain": [
       "<Figure size 640x480 with 1 Axes>"
      ]
     },
     "metadata": {},
     "output_type": "display_data"
    }
   ],
   "source": [
    "plt.imshow(X[0], cmap = 'gray')\n",
    "plt.show()"
   ]
  },
  {
   "cell_type": "code",
   "execution_count": 145,
   "id": "c81bc5be-75cf-47b2-b081-734f34ef86db",
   "metadata": {},
   "outputs": [
    {
     "data": {
      "text/plain": [
       "(10000, 28, 28)"
      ]
     },
     "execution_count": 145,
     "metadata": {},
     "output_type": "execute_result"
    }
   ],
   "source": [
    "X.shape"
   ]
  },
  {
   "cell_type": "code",
   "execution_count": 147,
   "id": "7a73c65e-e5aa-439c-aaca-158ffcfde511",
   "metadata": {},
   "outputs": [
    {
     "data": {
      "text/plain": [
       "(10000, 784)"
      ]
     },
     "execution_count": 147,
     "metadata": {},
     "output_type": "execute_result"
    }
   ],
   "source": [
    "X_scaled = X.reshape(10000, 784) / 255\n",
    "X_scaled.shape"
   ]
  },
  {
   "cell_type": "code",
   "execution_count": 148,
   "id": "f68f4f38-c8bf-459f-80ec-bcc4fb1a2a9c",
   "metadata": {},
   "outputs": [
    {
     "data": {
      "text/plain": [
       "0.9352"
      ]
     },
     "execution_count": 148,
     "metadata": {},
     "output_type": "execute_result"
    }
   ],
   "source": [
    "count = 0\n",
    "for i in range(len(X_scaled)):\n",
    "    a = X_scaled[i]\n",
    "    y = forward(net, a)\n",
    "    \n",
    "    pred = np.argmax(y)\n",
    "    real = np.argmax(Y[i])\n",
    "    if pred == real:\n",
    "        count += 1\n",
    "\n",
    "count / len(X_scaled)"
   ]
  },
  {
   "cell_type": "code",
   "execution_count": 149,
   "id": "24a480af-5c59-4187-a6d7-7ba4927b7d28",
   "metadata": {},
   "outputs": [
    {
     "data": {
      "text/plain": [
       "1.2039727709926034"
      ]
     },
     "execution_count": 149,
     "metadata": {},
     "output_type": "execute_result"
    }
   ],
   "source": [
    "# 분류 모델일때 오차 구하는법\n",
    "t = np.array([0, 1, 0]) # 실제값\n",
    "y = np.array([0.1, 0.3, 0.6]) # 예측값\n",
    "\n",
    "-np.sum(t * np.log(y + 1e-8)) # 크로스 엔트로피 손실값"
   ]
  },
  {
   "cell_type": "code",
   "execution_count": 150,
   "id": "b3e634c8-635b-4d0b-8a31-a3d7546962e8",
   "metadata": {},
   "outputs": [],
   "source": [
    "def cross_entropy_error(y, t):\n",
    "    delta = 1e-9\n",
    "    if y.ndim == 1:\n",
    "        t = t.reshape(-1, len(t))\n",
    "        y = y.reshape(-1, len(y))\n",
    "    size = len(y)\n",
    "    return -np.sum(np.log(y[np.arange(size), t] + delta)) / size"
   ]
  },
  {
   "cell_type": "code",
   "execution_count": 151,
   "id": "3dc0b5a5-d3e0-4e2d-9952-9c76c4acb907",
   "metadata": {},
   "outputs": [
    {
     "data": {
      "text/plain": [
       "1.2628643165291276"
      ]
     },
     "execution_count": 151,
     "metadata": {},
     "output_type": "execute_result"
    }
   ],
   "source": [
    "t = np.array([1, 2])\n",
    "y = np.array([[0.1, 0.8, 0.1], [0.6, 0.3, 0.1]])\n",
    "\n",
    "cross_entropy_error(y, t)"
   ]
  },
  {
   "cell_type": "code",
   "execution_count": 152,
   "id": "a2103a4f-bd85-4977-959e-92b67a5b4ba0",
   "metadata": {},
   "outputs": [],
   "source": [
    "# 미분 함수 구현하기\n",
    "def numerical_diff(f, x):\n",
    "    h = 1e-4\n",
    "    return (f(x+h) - f(x-h)) / (2 * h)"
   ]
  },
  {
   "cell_type": "code",
   "execution_count": 153,
   "id": "1eff8414-b56d-49a1-aa21-94f657cc9e50",
   "metadata": {},
   "outputs": [],
   "source": [
    "def func1(x):\n",
    "    return x ** 2"
   ]
  },
  {
   "cell_type": "code",
   "execution_count": 154,
   "id": "9736eddb-4cd6-4815-b286-b809e2fe6c29",
   "metadata": {},
   "outputs": [
    {
     "data": {
      "image/png": "[encoded data removed]",
      "text/plain": [
       "<Figure size 640x480 with 1 Axes>"
      ]
     },
     "metadata": {},
     "output_type": "display_data"
    }
   ],
   "source": [
    "x = np.arange(-5, 5, 0.1)\n",
    "y = func1(x)\n",
    "\n",
    "plt.plot(x, y)\n",
    "plt.show()"
   ]
  },
  {
   "cell_type": "code",
   "execution_count": 155,
   "id": "dae88aea-77e9-4bf9-bf67-2d8d44246a8f",
   "metadata": {},
   "outputs": [
    {
     "data": {
      "text/plain": [
       "4.000000000004"
      ]
     },
     "execution_count": 155,
     "metadata": {},
     "output_type": "execute_result"
    }
   ],
   "source": [
    "numerical_diff(func1, 2)"
   ]
  },
  {
   "cell_type": "code",
   "execution_count": 156,
   "id": "58ef9088-c883-4225-81cb-332fde5087ff",
   "metadata": {},
   "outputs": [],
   "source": [
    "def func2(x):\n",
    "    return x[0] ** 2 + x[1] ** 2"
   ]
  },
  {
   "cell_type": "code",
   "execution_count": 157,
   "id": "b4ce01f1-67f9-4ab2-9997-f07e7cf1a8e7",
   "metadata": {},
   "outputs": [
    {
     "data": {
      "image/png": "[encoded data removed]",
      "text/plain": [
       "<Figure size 640x480 with 1 Axes>"
      ]
     },
     "metadata": {},
     "output_type": "display_data"
    }
   ],
   "source": [
    "x = np.arange(-5, 5, 0.1)\n",
    "y = np.arange(-5, 5, 0.1)\n",
    "\n",
    "X, Y = np.meshgrid(x, y)\n",
    "Z = func2([X, Y])\n",
    "\n",
    "fig = plt.figure()\n",
    "\n",
    "ax = fig.add_subplot(111, projection = '3d')\n",
    "ax.plot_surface(X, Y, Z)\n",
    "\n",
    "plt.show()"
   ]
  },
  {
   "cell_type": "code",
   "execution_count": 158,
   "id": "1c3519d1-081c-4cd0-b8a7-42c8ef7c5197",
   "metadata": {},
   "outputs": [],
   "source": [
    "def numerical_gradient(f, x):\n",
    "    h = 1e-4\n",
    "    grad = np.zeros_like(x)\n",
    "    \n",
    "    for idx in np.ndindex(x.shape):\n",
    "        tmp_val = x[idx]\n",
    "\n",
    "        x[idx] = tmp_val + h\n",
    "        fxh1 = f(x)\n",
    "\n",
    "        x[idx] = tmp_val - h\n",
    "        fxh2 = f(x)\n",
    "\n",
    "        grad[idx] = (fxh1 - fxh2) / (2 * h)\n",
    "        x[idx] = tmp_val\n",
    "\n",
    "    return grad"
   ]
  },
  {
   "cell_type": "code",
   "execution_count": 160,
   "id": "5cf91243-9052-4c47-aab8-0ee4b7a95ccf",
   "metadata": {},
   "outputs": [
    {
     "data": {
      "text/plain": [
       "array([ 5000, 15000])"
      ]
     },
     "execution_count": 160,
     "metadata": {},
     "output_type": "execute_result"
    }
   ],
   "source": [
    "a = np.array([1,2])\n",
    "numerical_gradient(func2, a)"
   ]
  },
  {
   "cell_type": "code",
   "execution_count": 162,
   "id": "6cf27dd9-4c01-4683-a2e5-3f445e1a1e60",
   "metadata": {},
   "outputs": [],
   "source": [
    "class My_Net:\n",
    "\n",
    "    def __init__(self, input_size, hidden_size, output_size):\n",
    "        I, H, O = input_size, hidden_size, output_size\n",
    "        self.params = {}\n",
    "        self.params['w1'] = np.random.rand(I, H)\n",
    "        self.params['b1'] = np.random.rand(H)\n",
    "        self.params['w2'] = np.random.rand(H, O)\n",
    "        self.params['b2'] = np.random.rand(O)\n",
    "\n",
    "    def predict(self, x):\n",
    "        w1, w2 = self.params['w1'], self.params['w2']\n",
    "        b1, b2 = self.params['b1'], self.params['b2']\n",
    "        a1 = np.dot(x, w1) + b1\n",
    "        z1 = sigmoid(a1)\n",
    "        a2 = np.dot(z1, w2) + b2\n",
    "        y = softmax(a2)\n",
    "        return y\n",
    "\n",
    "    def loss(self, x, t):\n",
    "        y = self.predict(x)\n",
    "        return cross_entropy_error(y, t)\n",
    "\n",
    "    def score(self, x, t):\n",
    "        y = self.predict(x)\n",
    "        y = np.argmax(y, axis = 1)\n",
    "        t = np.argmax(t, axis = 1)\n",
    "        return np.sum(y == t) / len(x)\n",
    "\n",
    "    def fit(self, x, t):\n",
    "        loss = lambda i : self.loss(x, t)\n",
    "        grads = {}\n",
    "        grads['w1'] = numerical_gradient(loss, self.params['w1'])\n",
    "        grads['b1'] = numerical_gradient(loss, self.params['b1'])\n",
    "        grads['w2'] = numerical_gradient(loss, self.params['w2'])\n",
    "        grads['b2'] = numerical_gradient(loss, self.params['b2'])\n",
    "        return grads"
   ]
  },
  {
   "cell_type": "code",
   "execution_count": 163,
   "id": "80705616-aa49-46d7-abc5-220da43136ff",
   "metadata": {},
   "outputs": [],
   "source": [
    "from sklearn.datasets import load_iris\n",
    "from sklearn.model_selection import train_test_split\n",
    "\n",
    "iris = load_iris()\n",
    "\n",
    "X = iris.data\n",
    "Y = iris.target\n",
    "\n",
    "train_x, test_x, train_y, test_y = train_test_split(X, Y)"
   ]
  },
  {
   "cell_type": "code",
   "execution_count": 164,
   "id": "c9d79418-9009-46e7-a1a5-b38d910b6db8",
   "metadata": {},
   "outputs": [
    {
     "data": {
      "text/plain": [
       "112"
      ]
     },
     "execution_count": 164,
     "metadata": {},
     "output_type": "execute_result"
    }
   ],
   "source": [
    "len(train_x)"
   ]
  },
  {
   "cell_type": "code",
   "execution_count": 165,
   "id": "82987094-b6a6-4112-9cc2-d02fe6aefbad",
   "metadata": {},
   "outputs": [
    {
     "name": "stderr",
     "output_type": "stream",
     "text": [
      "100%|██████████████████████████████████████████████████████████████████████████████| 1000/1000 [00:16<00:00, 61.65it/s]\n"
     ]
    }
   ],
   "source": [
    "from tqdm import tqdm # for문의 진행상황\n",
    "\n",
    "network = My_Net(4, 8, 3)\n",
    "\n",
    "train_losses = []\n",
    "test_losses = []\n",
    "\n",
    "for i in tqdm(range(1000)):\n",
    "    \n",
    "    mask = np.random.choice(112, 80)\n",
    "    \n",
    "    x_batch = train_x[mask]\n",
    "    t_batch = train_y[mask]\n",
    "\n",
    "    # 각 파라미터를 편미분 -> 너무 오래걸림 누군가가 \n",
    "    # 해결한 방법 -> 각각의 층들을 미분하니 속도가 엄청 빨라짐\n",
    "    # 각 층을 미분 = 오차역전파 알고리즘\n",
    "    # 모멘텀 -> 아담(최적화 함수)\n",
    "    grad = network.fit(x_batch, t_batch)\n",
    "\n",
    "    for key in ('w1', 'b1', 'w2', 'b2'):\n",
    "        network.params[key] -= grad[key] * 0.1\n",
    "\n",
    "    loss = network.loss(train_x, train_y)\n",
    "    test_loss = network.loss(test_x, test_y)\n",
    "\n",
    "    train_losses.append(loss)\n",
    "    test_losses.append(test_loss)"
   ]
  },
  {
   "cell_type": "code",
   "execution_count": 166,
   "id": "69b321d6-e456-4728-870d-ebd767fe6edd",
   "metadata": {},
   "outputs": [
    {
     "data": {
      "image/png": "[encoded data removed]",
      "text/plain": [
       "<Figure size 640x480 with 1 Axes>"
      ]
     },
     "metadata": {},
     "output_type": "display_data"
    }
   ],
   "source": [
    "plt.plot(train_losses)\n",
    "plt.plot(test_losses)\n",
    "plt.legend(['train', 'test'])\n",
    "plt.show()"
   ]
  },
  {
   "cell_type": "code",
   "execution_count": 194,
   "id": "380fe3fe-7487-4429-9aa2-256085ab8505",
   "metadata": {
    "scrolled": true
   },
   "outputs": [
    {
     "data": {
      "text/plain": [
       "0.9210526315789473"
      ]
     },
     "execution_count": 194,
     "metadata": {},
     "output_type": "execute_result"
    }
   ],
   "source": [
    "pred=network.predict(test_x)\n",
    "\n",
    "sum(np.argmax(pred,axis =1)==test_y)/len(pred)"
   ]
  },
  {
   "cell_type": "code",
   "execution_count": null,
   "id": "c0fe92a8-d9ff-4c95-a145-0f693ab935de",
   "metadata": {},
   "outputs": [],
   "source": []
  },
  {
   "cell_type": "code",
   "execution_count": null,
   "id": "ec19009b-00d5-45c8-8409-6e1ce3f82230",
   "metadata": {},
   "outputs": [],
   "source": []
  }
 ],
 "metadata": {
  "kernelspec": {
   "display_name": "Python 3 (ipykernel)",
   "language": "python",
   "name": "python3"
  },
  "language_info": {
   "codemirror_mode": {
    "name": "ipython",
    "version": 3
   },
   "file_extension": ".py",
   "mimetype": "text/x-python",
   "name": "python",
   "nbconvert_exporter": "python",
   "pygments_lexer": "ipython3",
   "version": "3.11.7"
  }
 },
 "nbformat": 4,
 "nbformat_minor": 5
}
